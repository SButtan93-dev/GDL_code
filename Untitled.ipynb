{
 "cells": [
  {
   "cell_type": "code",
   "execution_count": 1,
   "metadata": {},
   "outputs": [
    {
     "name": "stdout",
     "output_type": "stream",
     "text": [
      "02_01_deep_learning_deep_neural_network.ipynb\r\n",
      "02_02_deep_learning_convolutions.ipynb\r\n",
      "02_03_deep_learning_conv_neural_network.ipynb\r\n",
      "03_01_autoencoder_train.ipynb\r\n",
      "03_02_autoencoder_analysis.ipynb\r\n",
      "03_03_vae_digits_train.ipynb\r\n",
      "03_04_vae_digits_analysis.ipynb\r\n",
      "03_05_vae_faces_train.ipynb\r\n",
      "03_06_vae_faces_analysis.ipynb\r\n",
      "04_01_gan_camel_explore_latent_space.ipynb\r\n",
      "04_01_gan_camel_train.ipynb\r\n",
      "04_02_wgan_cifar_train.ipynb\r\n",
      "04_03_wgangp_faces_train.ipynb\r\n",
      "05_01_cyclegan_train.ipynb\r\n",
      "06_01_lstm_text_train.ipynb\r\n",
      "06_02_qa_train.ipynb\r\n",
      "06_03_qa_analysis.ipynb\r\n",
      "07_01_notation_compose.ipynb\r\n",
      "07_02_lstm_compose_train.ipynb\r\n",
      "07_03_lstm_compose_predict.ipynb\r\n",
      "07_04_musegan_train.ipynb\r\n",
      "07_05_musegan_analysis.ipynb\r\n",
      "09_01_positional_encoding.ipynb\r\n",
      "BacterialClassification.ipynb\r\n",
      "Dockerfile.cpu\r\n",
      "Dockerfile.gpu\r\n",
      "LICENSE\r\n",
      "README.md\r\n",
      "Untitled.ipynb\r\n",
      "beautyGan.ipynb\r\n",
      "\u001b[34mdata\u001b[m\u001b[m/\r\n",
      "\u001b[31mlaunch-docker-cpu.sh\u001b[m\u001b[m*\r\n",
      "\u001b[31mlaunch-docker-gpu.sh\u001b[m\u001b[m*\r\n",
      "model.png\r\n",
      "\u001b[34mmodels\u001b[m\u001b[m/\r\n",
      "requirements.txt\r\n",
      "\u001b[34mrun\u001b[m\u001b[m/\r\n",
      "\u001b[34mscripts\u001b[m\u001b[m/\r\n",
      "\u001b[34mutils\u001b[m\u001b[m/\r\n"
     ]
    }
   ],
   "source": [
    "%ls"
   ]
  },
  {
   "cell_type": "code",
   "execution_count": null,
   "metadata": {},
   "outputs": [],
   "source": []
  }
 ],
 "metadata": {
  "kernelspec": {
   "display_name": "generative_fork [Python 3.7 (tensorflow 2.0.0, Keras2.3.1)]\n",
   "language": "python",
   "name": "generative_fork"
  },
  "language_info": {
   "codemirror_mode": {
    "name": "ipython",
    "version": 3
   },
   "file_extension": ".py",
   "mimetype": "text/x-python",
   "name": "python",
   "nbconvert_exporter": "python",
   "pygments_lexer": "ipython3",
   "version": "3.7.7"
  }
 },
 "nbformat": 4,
 "nbformat_minor": 2
}
