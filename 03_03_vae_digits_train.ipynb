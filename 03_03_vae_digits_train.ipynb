<<<<<<< HEAD
{"nbformat":4,"nbformat_minor":0,"metadata":{"kernelspec":{"name":"python3","display_name":"Python 3"},"colab":{"name":"03_03_vae_digits_train.ipynb","provenance":[]},"accelerator":"GPU"},"cells":[{"cell_type":"markdown","metadata":{"id":"P_jegBzZYOVy","colab_type":"text"},"source":["# VAE Training"]},{"cell_type":"markdown","metadata":{"id":"XOobEsgRYYCY","colab_type":"text"},"source":["# Google Drive"]},{"cell_type":"code","metadata":{"id":"nzZLPwnnYamY","colab_type":"code","colab":{"base_uri":"https://localhost:8080/","height":241},"outputId":"dbfcb99d-05ba-437a-a74b-59b8d871c138","executionInfo":{"status":"ok","timestamp":1586061011614,"user_tz":240,"elapsed":29419,"user":{"displayName":"Carlos Castellanos","photoUrl":"https://lh3.googleusercontent.com/a-/AOh14Gh8rGO48v18uo_FvsgzSapfeYyImiOEsF-JuQtY=s64","userId":"10214169060280753218"}}},"source":["try:\n","    from google.colab import drive\n","    drive.mount('/content/drive', force_remount=True)\n","    COLAB = True\n","    print(\"Note: using Google CoLab\")\n","    %tensorflow_version 2.x\n","except:\n","    print(\"Note: not using Google CoLab\")\n","    COLAB = False\n","    \n","%cd drive/My Drive/projects/GDL_code"],"execution_count":1,"outputs":[{"output_type":"stream","text":["Go to this URL in a browser: https://accounts.google.com/o/oauth2/auth?client_id=947318989803-6bn6qk8qdgf4n4g3pfee6491hc0brc4i.apps.googleusercontent.com&redirect_uri=urn%3aietf%3awg%3aoauth%3a2.0%3aoob&response_type=code&scope=email%20https%3a%2f%2fwww.googleapis.com%2fauth%2fdocs.test%20https%3a%2f%2fwww.googleapis.com%2fauth%2fdrive%20https%3a%2f%2fwww.googleapis.com%2fauth%2fdrive.photos.readonly%20https%3a%2f%2fwww.googleapis.com%2fauth%2fpeopleapi.readonly\n","\n","Enter your authorization code:\n","··········\n","Mounted at /content/drive\n","Note: using Google CoLab\n","`%tensorflow_version` only switches the major version: 1.x or 2.x.\n","You set: `2.0`. This will be interpreted as: `2.x`.\n","\n","\n","TensorFlow 2.x selected.\n","/content/drive/My Drive/projects/GDL_code\n"],"name":"stdout"}]},{"cell_type":"markdown","metadata":{"id":"g1lsH_yUYOV0","colab_type":"text"},"source":["## imports"]},{"cell_type":"code","metadata":{"id":"lVJAiS91YOV0","colab_type":"code","colab":{}},"source":["import os\n","\n","from models.VAE import VariationalAutoencoder\n","from utils.loaders import load_mnist"],"execution_count":0,"outputs":[]},{"cell_type":"code","metadata":{"id":"3DfLpRgYYOV3","colab_type":"code","colab":{}},"source":["# run params\n","SECTION = 'vae'\n","RUN_ID = '0002'\n","DATA_NAME = 'digits'\n","RUN_FOLDER = 'run/{}/'.format(SECTION)\n","RUN_FOLDER += '_'.join([RUN_ID, DATA_NAME])\n","\n","if not os.path.exists(RUN_FOLDER):\n","    os.mkdir(RUN_FOLDER)\n","    os.mkdir(os.path.join(RUN_FOLDER, 'viz'))\n","    os.mkdir(os.path.join(RUN_FOLDER, 'images'))\n","    os.mkdir(os.path.join(RUN_FOLDER, 'weights'))\n","\n","mode =  'build' #'load' #"],"execution_count":0,"outputs":[]},{"cell_type":"markdown","metadata":{"id":"aVmSsCooYOV5","colab_type":"text"},"source":["## data"]},{"cell_type":"code","metadata":{"id":"-6LVDs2xYOV5","colab_type":"code","colab":{"base_uri":"https://localhost:8080/","height":51},"outputId":"bd5cdc45-3bd5-4b47-9984-4289fbf4ac82","executionInfo":{"status":"ok","timestamp":1586061045437,"user_tz":240,"elapsed":2115,"user":{"displayName":"Carlos Castellanos","photoUrl":"https://lh3.googleusercontent.com/a-/AOh14Gh8rGO48v18uo_FvsgzSapfeYyImiOEsF-JuQtY=s64","userId":"10214169060280753218"}}},"source":["(x_train, y_train), (x_test, y_test) = load_mnist()"],"execution_count":4,"outputs":[{"output_type":"stream","text":["Downloading data from https://storage.googleapis.com/tensorflow/tf-keras-datasets/mnist.npz\n","11493376/11490434 [==============================] - 0s 0us/step\n"],"name":"stdout"}]},{"cell_type":"markdown","metadata":{"id":"p1BjEFmaYOV8","colab_type":"text"},"source":["## architecture"]},{"cell_type":"code","metadata":{"id":"DB3WBMdTYOV8","colab_type":"code","colab":{}},"source":["vae = VariationalAutoencoder(\n","    input_dim = (28,28,1)\n","    , encoder_conv_filters = [32,64,64, 64]\n","    , encoder_conv_kernel_size = [3,3,3,3]\n","    , encoder_conv_strides = [1,2,2,1]\n","    , decoder_conv_t_filters = [64,64,32,1]\n","    , decoder_conv_t_kernel_size = [3,3,3,3]\n","    , decoder_conv_t_strides = [1,2,2,1]\n","    , z_dim = 2\n",")\n","\n","if mode == 'build':\n","    vae.save(RUN_FOLDER)\n","else:\n","    vae.load_weights(os.path.join(RUN_FOLDER, 'weights/weights.h5'))"],"execution_count":0,"outputs":[]},{"cell_type":"code","metadata":{"id":"BQ8HkGLpYOV-","colab_type":"code","colab":{"base_uri":"https://localhost:8080/","height":612},"outputId":"dd90d3a9-8ef0-42ec-a659-2ffe2515ec02","executionInfo":{"status":"ok","timestamp":1586061063468,"user_tz":240,"elapsed":720,"user":{"displayName":"Carlos Castellanos","photoUrl":"https://lh3.googleusercontent.com/a-/AOh14Gh8rGO48v18uo_FvsgzSapfeYyImiOEsF-JuQtY=s64","userId":"10214169060280753218"}}},"source":["vae.encoder.summary()"],"execution_count":6,"outputs":[{"output_type":"stream","text":["Model: \"model_1\"\n","__________________________________________________________________________________________________\n","Layer (type)                    Output Shape         Param #     Connected to                     \n","==================================================================================================\n","encoder_input (InputLayer)      [(None, 28, 28, 1)]  0                                            \n","__________________________________________________________________________________________________\n","encoder_conv_0 (Conv2D)         (None, 28, 28, 32)   320         encoder_input[0][0]              \n","__________________________________________________________________________________________________\n","leaky_re_lu (LeakyReLU)         (None, 28, 28, 32)   0           encoder_conv_0[0][0]             \n","__________________________________________________________________________________________________\n","encoder_conv_1 (Conv2D)         (None, 14, 14, 64)   18496       leaky_re_lu[0][0]                \n","__________________________________________________________________________________________________\n","leaky_re_lu_1 (LeakyReLU)       (None, 14, 14, 64)   0           encoder_conv_1[0][0]             \n","__________________________________________________________________________________________________\n","encoder_conv_2 (Conv2D)         (None, 7, 7, 64)     36928       leaky_re_lu_1[0][0]              \n","__________________________________________________________________________________________________\n","leaky_re_lu_2 (LeakyReLU)       (None, 7, 7, 64)     0           encoder_conv_2[0][0]             \n","__________________________________________________________________________________________________\n","encoder_conv_3 (Conv2D)         (None, 7, 7, 64)     36928       leaky_re_lu_2[0][0]              \n","__________________________________________________________________________________________________\n","leaky_re_lu_3 (LeakyReLU)       (None, 7, 7, 64)     0           encoder_conv_3[0][0]             \n","__________________________________________________________________________________________________\n","flatten (Flatten)               (None, 3136)         0           leaky_re_lu_3[0][0]              \n","__________________________________________________________________________________________________\n","mu (Dense)                      (None, 2)            6274        flatten[0][0]                    \n","__________________________________________________________________________________________________\n","log_var (Dense)                 (None, 2)            6274        flatten[0][0]                    \n","__________________________________________________________________________________________________\n","encoder_output (Lambda)         (None, 2)            0           mu[0][0]                         \n","                                                                 log_var[0][0]                    \n","==================================================================================================\n","Total params: 105,220\n","Trainable params: 105,220\n","Non-trainable params: 0\n","__________________________________________________________________________________________________\n"],"name":"stdout"}]},{"cell_type":"code","metadata":{"id":"qdbWRoU_YOWA","colab_type":"code","colab":{"base_uri":"https://localhost:8080/","height":527},"outputId":"0496d773-a18a-4f8f-8125-74a428e7a38e","executionInfo":{"status":"ok","timestamp":1586061066243,"user_tz":240,"elapsed":408,"user":{"displayName":"Carlos Castellanos","photoUrl":"https://lh3.googleusercontent.com/a-/AOh14Gh8rGO48v18uo_FvsgzSapfeYyImiOEsF-JuQtY=s64","userId":"10214169060280753218"}}},"source":["vae.decoder.summary()"],"execution_count":7,"outputs":[{"output_type":"stream","text":["Model: \"model_2\"\n","_________________________________________________________________\n","Layer (type)                 Output Shape              Param #   \n","=================================================================\n","decoder_input (InputLayer)   [(None, 2)]               0         \n","_________________________________________________________________\n","dense (Dense)                (None, 3136)              9408      \n","_________________________________________________________________\n","reshape (Reshape)            (None, 7, 7, 64)          0         \n","_________________________________________________________________\n","decoder_conv_t_0 (Conv2DTran (None, 7, 7, 64)          36928     \n","_________________________________________________________________\n","leaky_re_lu_4 (LeakyReLU)    (None, 7, 7, 64)          0         \n","_________________________________________________________________\n","decoder_conv_t_1 (Conv2DTran (None, 14, 14, 64)        36928     \n","_________________________________________________________________\n","leaky_re_lu_5 (LeakyReLU)    (None, 14, 14, 64)        0         \n","_________________________________________________________________\n","decoder_conv_t_2 (Conv2DTran (None, 28, 28, 32)        18464     \n","_________________________________________________________________\n","leaky_re_lu_6 (LeakyReLU)    (None, 28, 28, 32)        0         \n","_________________________________________________________________\n","decoder_conv_t_3 (Conv2DTran (None, 28, 28, 1)         289       \n","_________________________________________________________________\n","activation (Activation)      (None, 28, 28, 1)         0         \n","=================================================================\n","Total params: 102,017\n","Trainable params: 102,017\n","Non-trainable params: 0\n","_________________________________________________________________\n"],"name":"stdout"}]},{"cell_type":"markdown","metadata":{"id":"MClCRUU0YOWD","colab_type":"text"},"source":["## training"]},{"cell_type":"code","metadata":{"id":"GifDFmSPYOWD","colab_type":"code","colab":{}},"source":["LEARNING_RATE = 0.0005\n","R_LOSS_FACTOR = 1000"],"execution_count":0,"outputs":[]},{"cell_type":"code","metadata":{"id":"ImX-1FOkYOWF","colab_type":"code","colab":{}},"source":["vae.compile(LEARNING_RATE, R_LOSS_FACTOR)"],"execution_count":0,"outputs":[]},{"cell_type":"code","metadata":{"id":"biYp37g_YOWH","colab_type":"code","colab":{}},"source":["BATCH_SIZE = 32\n","EPOCHS = 200\n","PRINT_EVERY_N_BATCHES = 100\n","INITIAL_EPOCH = 0"],"execution_count":0,"outputs":[]},{"cell_type":"code","metadata":{"id":"-Y1N2ja3YOWJ","colab_type":"code","colab":{"base_uri":"https://localhost:8080/","height":633},"outputId":"456e8767-90fd-4dbd-d170-daaf1e7f4107","executionInfo":{"status":"error","timestamp":1586061082510,"user_tz":240,"elapsed":3055,"user":{"displayName":"Carlos Castellanos","photoUrl":"https://lh3.googleusercontent.com/a-/AOh14Gh8rGO48v18uo_FvsgzSapfeYyImiOEsF-JuQtY=s64","userId":"10214169060280753218"}}},"source":["vae.train(     \n","    x_train\n","    , batch_size = BATCH_SIZE\n","    , epochs = EPOCHS\n","    , run_folder = RUN_FOLDER\n","    , print_every_n_batches = PRINT_EVERY_N_BATCHES\n","    , initial_epoch = INITIAL_EPOCH\n",")"],"execution_count":11,"outputs":[{"output_type":"stream","text":["Epoch 1/200\n"],"name":"stdout"},{"output_type":"error","ename":"_SymbolicException","evalue":"ignored","traceback":["\u001b[0;31m---------------------------------------------------------------------------\u001b[0m","\u001b[0;31mTypeError\u001b[0m                                 Traceback (most recent call last)","\u001b[0;32m/usr/local/lib/python3.6/dist-packages/tensorflow/python/eager/execute.py\u001b[0m in \u001b[0;36mquick_execute\u001b[0;34m(op_name, num_outputs, inputs, attrs, ctx, name)\u001b[0m\n\u001b[1;32m     59\u001b[0m     tensors = pywrap_tfe.TFE_Py_Execute(ctx._handle, device_name, op_name,\n\u001b[0;32m---> 60\u001b[0;31m                                         inputs, attrs, num_outputs)\n\u001b[0m\u001b[1;32m     61\u001b[0m   \u001b[0;32mexcept\u001b[0m \u001b[0mcore\u001b[0m\u001b[0;34m.\u001b[0m\u001b[0m_NotOkStatusException\u001b[0m \u001b[0;32mas\u001b[0m \u001b[0me\u001b[0m\u001b[0;34m:\u001b[0m\u001b[0;34m\u001b[0m\u001b[0;34m\u001b[0m\u001b[0m\n","\u001b[0;31mTypeError\u001b[0m: An op outside of the function building code is being passed\na \"Graph\" tensor. It is possible to have Graph tensors\nleak out of the function building context by including a\ntf.init_scope in your function building code.\nFor example, the following function will fail:\n  @tf.function\n  def has_init_scope():\n    my_constant = tf.constant(1.)\n    with tf.init_scope():\n      added = my_constant * 2\nThe graph tensor has name: log_var/Identity:0","\nDuring handling of the above exception, another exception occurred:\n","\u001b[0;31m_SymbolicException\u001b[0m                        Traceback (most recent call last)","\u001b[0;32m<ipython-input-11-a0cdb3ff19b5>\u001b[0m in \u001b[0;36m<module>\u001b[0;34m()\u001b[0m\n\u001b[1;32m      5\u001b[0m     \u001b[0;34m,\u001b[0m \u001b[0mrun_folder\u001b[0m \u001b[0;34m=\u001b[0m \u001b[0mRUN_FOLDER\u001b[0m\u001b[0;34m\u001b[0m\u001b[0;34m\u001b[0m\u001b[0m\n\u001b[1;32m      6\u001b[0m     \u001b[0;34m,\u001b[0m \u001b[0mprint_every_n_batches\u001b[0m \u001b[0;34m=\u001b[0m \u001b[0mPRINT_EVERY_N_BATCHES\u001b[0m\u001b[0;34m\u001b[0m\u001b[0;34m\u001b[0m\u001b[0m\n\u001b[0;32m----> 7\u001b[0;31m     \u001b[0;34m,\u001b[0m \u001b[0minitial_epoch\u001b[0m \u001b[0;34m=\u001b[0m \u001b[0mINITIAL_EPOCH\u001b[0m\u001b[0;34m\u001b[0m\u001b[0;34m\u001b[0m\u001b[0m\n\u001b[0m\u001b[1;32m      8\u001b[0m )\n","\u001b[0;32m/content/drive/My Drive/projects/GDL_code/models/VAE.py\u001b[0m in \u001b[0;36mtrain\u001b[0;34m(self, x_train, batch_size, epochs, run_folder, print_every_n_batches, initial_epoch, lr_decay)\u001b[0m\n\u001b[1;32m    202\u001b[0m             \u001b[0;34m,\u001b[0m \u001b[0mepochs\u001b[0m \u001b[0;34m=\u001b[0m \u001b[0mepochs\u001b[0m\u001b[0;34m\u001b[0m\u001b[0;34m\u001b[0m\u001b[0m\n\u001b[1;32m    203\u001b[0m             \u001b[0;34m,\u001b[0m \u001b[0minitial_epoch\u001b[0m \u001b[0;34m=\u001b[0m \u001b[0minitial_epoch\u001b[0m\u001b[0;34m\u001b[0m\u001b[0;34m\u001b[0m\u001b[0m\n\u001b[0;32m--> 204\u001b[0;31m             \u001b[0;34m,\u001b[0m \u001b[0mcallbacks\u001b[0m \u001b[0;34m=\u001b[0m \u001b[0mcallbacks_list\u001b[0m\u001b[0;34m\u001b[0m\u001b[0;34m\u001b[0m\u001b[0m\n\u001b[0m\u001b[1;32m    205\u001b[0m         )\n\u001b[1;32m    206\u001b[0m \u001b[0;34m\u001b[0m\u001b[0m\n","\u001b[0;32m/usr/local/lib/python3.6/dist-packages/tensorflow/python/keras/engine/training.py\u001b[0m in \u001b[0;36m_method_wrapper\u001b[0;34m(self, *args, **kwargs)\u001b[0m\n\u001b[1;32m     64\u001b[0m   \u001b[0;32mdef\u001b[0m \u001b[0m_method_wrapper\u001b[0m\u001b[0;34m(\u001b[0m\u001b[0mself\u001b[0m\u001b[0;34m,\u001b[0m \u001b[0;34m*\u001b[0m\u001b[0margs\u001b[0m\u001b[0;34m,\u001b[0m \u001b[0;34m**\u001b[0m\u001b[0mkwargs\u001b[0m\u001b[0;34m)\u001b[0m\u001b[0;34m:\u001b[0m\u001b[0;34m\u001b[0m\u001b[0;34m\u001b[0m\u001b[0m\n\u001b[1;32m     65\u001b[0m     \u001b[0;32mif\u001b[0m \u001b[0;32mnot\u001b[0m \u001b[0mself\u001b[0m\u001b[0;34m.\u001b[0m\u001b[0m_in_multi_worker_mode\u001b[0m\u001b[0;34m(\u001b[0m\u001b[0;34m)\u001b[0m\u001b[0;34m:\u001b[0m  \u001b[0;31m# pylint: disable=protected-access\u001b[0m\u001b[0;34m\u001b[0m\u001b[0;34m\u001b[0m\u001b[0m\n\u001b[0;32m---> 66\u001b[0;31m       \u001b[0;32mreturn\u001b[0m \u001b[0mmethod\u001b[0m\u001b[0;34m(\u001b[0m\u001b[0mself\u001b[0m\u001b[0;34m,\u001b[0m \u001b[0;34m*\u001b[0m\u001b[0margs\u001b[0m\u001b[0;34m,\u001b[0m \u001b[0;34m**\u001b[0m\u001b[0mkwargs\u001b[0m\u001b[0;34m)\u001b[0m\u001b[0;34m\u001b[0m\u001b[0;34m\u001b[0m\u001b[0m\n\u001b[0m\u001b[1;32m     67\u001b[0m \u001b[0;34m\u001b[0m\u001b[0m\n\u001b[1;32m     68\u001b[0m     \u001b[0;31m# Running inside `run_distribute_coordinator` already.\u001b[0m\u001b[0;34m\u001b[0m\u001b[0;34m\u001b[0m\u001b[0;34m\u001b[0m\u001b[0m\n","\u001b[0;32m/usr/local/lib/python3.6/dist-packages/tensorflow/python/keras/engine/training.py\u001b[0m in \u001b[0;36mfit\u001b[0;34m(self, x, y, batch_size, epochs, verbose, callbacks, validation_split, validation_data, shuffle, class_weight, sample_weight, initial_epoch, steps_per_epoch, validation_steps, validation_batch_size, validation_freq, max_queue_size, workers, use_multiprocessing, **kwargs)\u001b[0m\n\u001b[1;32m    783\u001b[0m                 batch_size=batch_size):\n\u001b[1;32m    784\u001b[0m               \u001b[0mcallbacks\u001b[0m\u001b[0;34m.\u001b[0m\u001b[0mon_train_batch_begin\u001b[0m\u001b[0;34m(\u001b[0m\u001b[0mstep\u001b[0m\u001b[0;34m)\u001b[0m\u001b[0;34m\u001b[0m\u001b[0;34m\u001b[0m\u001b[0m\n\u001b[0;32m--> 785\u001b[0;31m               \u001b[0mtmp_logs\u001b[0m \u001b[0;34m=\u001b[0m \u001b[0mtrain_function\u001b[0m\u001b[0;34m(\u001b[0m\u001b[0miterator\u001b[0m\u001b[0;34m)\u001b[0m\u001b[0;34m\u001b[0m\u001b[0;34m\u001b[0m\u001b[0m\n\u001b[0m\u001b[1;32m    786\u001b[0m               \u001b[0;31m# Catch OutOfRangeError for Datasets of unknown size.\u001b[0m\u001b[0;34m\u001b[0m\u001b[0;34m\u001b[0m\u001b[0;34m\u001b[0m\u001b[0m\n\u001b[1;32m    787\u001b[0m               \u001b[0;31m# This blocks until the batch has finished executing.\u001b[0m\u001b[0;34m\u001b[0m\u001b[0;34m\u001b[0m\u001b[0;34m\u001b[0m\u001b[0m\n","\u001b[0;32m/usr/local/lib/python3.6/dist-packages/tensorflow/python/eager/def_function.py\u001b[0m in \u001b[0;36m__call__\u001b[0;34m(self, *args, **kwds)\u001b[0m\n\u001b[1;32m    578\u001b[0m         \u001b[0mxla_context\u001b[0m\u001b[0;34m.\u001b[0m\u001b[0mExit\u001b[0m\u001b[0;34m(\u001b[0m\u001b[0;34m)\u001b[0m\u001b[0;34m\u001b[0m\u001b[0;34m\u001b[0m\u001b[0m\n\u001b[1;32m    579\u001b[0m     \u001b[0;32melse\u001b[0m\u001b[0;34m:\u001b[0m\u001b[0;34m\u001b[0m\u001b[0;34m\u001b[0m\u001b[0m\n\u001b[0;32m--> 580\u001b[0;31m       \u001b[0mresult\u001b[0m \u001b[0;34m=\u001b[0m \u001b[0mself\u001b[0m\u001b[0;34m.\u001b[0m\u001b[0m_call\u001b[0m\u001b[0;34m(\u001b[0m\u001b[0;34m*\u001b[0m\u001b[0margs\u001b[0m\u001b[0;34m,\u001b[0m \u001b[0;34m**\u001b[0m\u001b[0mkwds\u001b[0m\u001b[0;34m)\u001b[0m\u001b[0;34m\u001b[0m\u001b[0;34m\u001b[0m\u001b[0m\n\u001b[0m\u001b[1;32m    581\u001b[0m \u001b[0;34m\u001b[0m\u001b[0m\n\u001b[1;32m    582\u001b[0m     \u001b[0;32mif\u001b[0m \u001b[0mtracing_count\u001b[0m \u001b[0;34m==\u001b[0m \u001b[0mself\u001b[0m\u001b[0;34m.\u001b[0m\u001b[0m_get_tracing_count\u001b[0m\u001b[0;34m(\u001b[0m\u001b[0;34m)\u001b[0m\u001b[0;34m:\u001b[0m\u001b[0;34m\u001b[0m\u001b[0;34m\u001b[0m\u001b[0m\n","\u001b[0;32m/usr/local/lib/python3.6/dist-packages/tensorflow/python/eager/def_function.py\u001b[0m in \u001b[0;36m_call\u001b[0;34m(self, *args, **kwds)\u001b[0m\n\u001b[1;32m    642\u001b[0m         \u001b[0;31m# Lifting succeeded, so variables are initialized and we can run the\u001b[0m\u001b[0;34m\u001b[0m\u001b[0;34m\u001b[0m\u001b[0;34m\u001b[0m\u001b[0m\n\u001b[1;32m    643\u001b[0m         \u001b[0;31m# stateless function.\u001b[0m\u001b[0;34m\u001b[0m\u001b[0;34m\u001b[0m\u001b[0;34m\u001b[0m\u001b[0m\n\u001b[0;32m--> 644\u001b[0;31m         \u001b[0;32mreturn\u001b[0m \u001b[0mself\u001b[0m\u001b[0;34m.\u001b[0m\u001b[0m_stateless_fn\u001b[0m\u001b[0;34m(\u001b[0m\u001b[0;34m*\u001b[0m\u001b[0margs\u001b[0m\u001b[0;34m,\u001b[0m \u001b[0;34m**\u001b[0m\u001b[0mkwds\u001b[0m\u001b[0;34m)\u001b[0m\u001b[0;34m\u001b[0m\u001b[0;34m\u001b[0m\u001b[0m\n\u001b[0m\u001b[1;32m    645\u001b[0m     \u001b[0;32melse\u001b[0m\u001b[0;34m:\u001b[0m\u001b[0;34m\u001b[0m\u001b[0;34m\u001b[0m\u001b[0m\n\u001b[1;32m    646\u001b[0m       \u001b[0mcanon_args\u001b[0m\u001b[0;34m,\u001b[0m \u001b[0mcanon_kwds\u001b[0m \u001b[0;34m=\u001b[0m\u001b[0;31m \u001b[0m\u001b[0;31m\\\u001b[0m\u001b[0;34m\u001b[0m\u001b[0;34m\u001b[0m\u001b[0m\n","\u001b[0;32m/usr/local/lib/python3.6/dist-packages/tensorflow/python/eager/function.py\u001b[0m in \u001b[0;36m__call__\u001b[0;34m(self, *args, **kwargs)\u001b[0m\n\u001b[1;32m   2418\u001b[0m     \u001b[0;32mwith\u001b[0m \u001b[0mself\u001b[0m\u001b[0;34m.\u001b[0m\u001b[0m_lock\u001b[0m\u001b[0;34m:\u001b[0m\u001b[0;34m\u001b[0m\u001b[0;34m\u001b[0m\u001b[0m\n\u001b[1;32m   2419\u001b[0m       \u001b[0mgraph_function\u001b[0m\u001b[0;34m,\u001b[0m \u001b[0margs\u001b[0m\u001b[0;34m,\u001b[0m \u001b[0mkwargs\u001b[0m \u001b[0;34m=\u001b[0m \u001b[0mself\u001b[0m\u001b[0;34m.\u001b[0m\u001b[0m_maybe_define_function\u001b[0m\u001b[0;34m(\u001b[0m\u001b[0margs\u001b[0m\u001b[0;34m,\u001b[0m \u001b[0mkwargs\u001b[0m\u001b[0;34m)\u001b[0m\u001b[0;34m\u001b[0m\u001b[0;34m\u001b[0m\u001b[0m\n\u001b[0;32m-> 2420\u001b[0;31m     \u001b[0;32mreturn\u001b[0m \u001b[0mgraph_function\u001b[0m\u001b[0;34m.\u001b[0m\u001b[0m_filtered_call\u001b[0m\u001b[0;34m(\u001b[0m\u001b[0margs\u001b[0m\u001b[0;34m,\u001b[0m \u001b[0mkwargs\u001b[0m\u001b[0;34m)\u001b[0m  \u001b[0;31m# pylint: disable=protected-access\u001b[0m\u001b[0;34m\u001b[0m\u001b[0;34m\u001b[0m\u001b[0m\n\u001b[0m\u001b[1;32m   2421\u001b[0m \u001b[0;34m\u001b[0m\u001b[0m\n\u001b[1;32m   2422\u001b[0m   \u001b[0;34m@\u001b[0m\u001b[0mproperty\u001b[0m\u001b[0;34m\u001b[0m\u001b[0;34m\u001b[0m\u001b[0m\n","\u001b[0;32m/usr/local/lib/python3.6/dist-packages/tensorflow/python/eager/function.py\u001b[0m in \u001b[0;36m_filtered_call\u001b[0;34m(self, args, kwargs)\u001b[0m\n\u001b[1;32m   1663\u001b[0m          if isinstance(t, (ops.Tensor,\n\u001b[1;32m   1664\u001b[0m                            resource_variable_ops.BaseResourceVariable))),\n\u001b[0;32m-> 1665\u001b[0;31m         self.captured_inputs)\n\u001b[0m\u001b[1;32m   1666\u001b[0m \u001b[0;34m\u001b[0m\u001b[0m\n\u001b[1;32m   1667\u001b[0m   \u001b[0;32mdef\u001b[0m \u001b[0m_call_flat\u001b[0m\u001b[0;34m(\u001b[0m\u001b[0mself\u001b[0m\u001b[0;34m,\u001b[0m \u001b[0margs\u001b[0m\u001b[0;34m,\u001b[0m \u001b[0mcaptured_inputs\u001b[0m\u001b[0;34m,\u001b[0m \u001b[0mcancellation_manager\u001b[0m\u001b[0;34m=\u001b[0m\u001b[0;32mNone\u001b[0m\u001b[0;34m)\u001b[0m\u001b[0;34m:\u001b[0m\u001b[0;34m\u001b[0m\u001b[0;34m\u001b[0m\u001b[0m\n","\u001b[0;32m/usr/local/lib/python3.6/dist-packages/tensorflow/python/eager/function.py\u001b[0m in \u001b[0;36m_call_flat\u001b[0;34m(self, args, captured_inputs, cancellation_manager)\u001b[0m\n\u001b[1;32m   1744\u001b[0m       \u001b[0;31m# No tape is watching; skip to running the function.\u001b[0m\u001b[0;34m\u001b[0m\u001b[0;34m\u001b[0m\u001b[0;34m\u001b[0m\u001b[0m\n\u001b[1;32m   1745\u001b[0m       return self._build_call_outputs(self._inference_function.call(\n\u001b[0;32m-> 1746\u001b[0;31m           ctx, args, cancellation_manager=cancellation_manager))\n\u001b[0m\u001b[1;32m   1747\u001b[0m     forward_backward = self._select_forward_and_backward_functions(\n\u001b[1;32m   1748\u001b[0m         \u001b[0margs\u001b[0m\u001b[0;34m,\u001b[0m\u001b[0;34m\u001b[0m\u001b[0;34m\u001b[0m\u001b[0m\n","\u001b[0;32m/usr/local/lib/python3.6/dist-packages/tensorflow/python/eager/function.py\u001b[0m in \u001b[0;36mcall\u001b[0;34m(self, ctx, args, cancellation_manager)\u001b[0m\n\u001b[1;32m    596\u001b[0m               \u001b[0minputs\u001b[0m\u001b[0;34m=\u001b[0m\u001b[0margs\u001b[0m\u001b[0;34m,\u001b[0m\u001b[0;34m\u001b[0m\u001b[0;34m\u001b[0m\u001b[0m\n\u001b[1;32m    597\u001b[0m               \u001b[0mattrs\u001b[0m\u001b[0;34m=\u001b[0m\u001b[0mattrs\u001b[0m\u001b[0;34m,\u001b[0m\u001b[0;34m\u001b[0m\u001b[0;34m\u001b[0m\u001b[0m\n\u001b[0;32m--> 598\u001b[0;31m               ctx=ctx)\n\u001b[0m\u001b[1;32m    599\u001b[0m         \u001b[0;32melse\u001b[0m\u001b[0;34m:\u001b[0m\u001b[0;34m\u001b[0m\u001b[0;34m\u001b[0m\u001b[0m\n\u001b[1;32m    600\u001b[0m           outputs = execute.execute_with_cancellation(\n","\u001b[0;32m/usr/local/lib/python3.6/dist-packages/tensorflow/python/eager/execute.py\u001b[0m in \u001b[0;36mquick_execute\u001b[0;34m(op_name, num_outputs, inputs, attrs, ctx, name)\u001b[0m\n\u001b[1;32m     72\u001b[0m       raise core._SymbolicException(\n\u001b[1;32m     73\u001b[0m           \u001b[0;34m\"Inputs to eager execution function cannot be Keras symbolic \"\u001b[0m\u001b[0;34m\u001b[0m\u001b[0;34m\u001b[0m\u001b[0m\n\u001b[0;32m---> 74\u001b[0;31m           \"tensors, but found {}\".format(keras_symbolic_tensors))\n\u001b[0m\u001b[1;32m     75\u001b[0m     \u001b[0;32mraise\u001b[0m \u001b[0me\u001b[0m\u001b[0;34m\u001b[0m\u001b[0;34m\u001b[0m\u001b[0m\n\u001b[1;32m     76\u001b[0m   \u001b[0;31m# pylint: enable=protected-access\u001b[0m\u001b[0;34m\u001b[0m\u001b[0;34m\u001b[0m\u001b[0;34m\u001b[0m\u001b[0m\n","\u001b[0;31m_SymbolicException\u001b[0m: Inputs to eager execution function cannot be Keras symbolic tensors, but found [<tf.Tensor 'log_var/Identity:0' shape=(None, 2) dtype=float32>, <tf.Tensor 'mu/Identity:0' shape=(None, 2) dtype=float32>]"]}]},{"cell_type":"code","metadata":{"id":"ckjKdGblYOWL","colab_type":"code","colab":{}},"source":[""],"execution_count":0,"outputs":[]}]}
=======
{
 "cells": [
  {
   "cell_type": "markdown",
   "metadata": {},
   "source": [
    "# VAE Training"
   ]
  },
  {
   "cell_type": "markdown",
   "metadata": {},
   "source": [
    "## imports"
   ]
  },
  {
   "cell_type": "code",
   "execution_count": 1,
   "metadata": {},
   "outputs": [],
   "source": [
    "import os\n",
    "\n",
    "from models.VAE import VariationalAutoencoder\n",
    "from utils.loaders import load_mnist"
   ]
  },
  {
   "cell_type": "code",
   "execution_count": 2,
   "metadata": {},
   "outputs": [],
   "source": [
    "# run params\n",
    "SECTION = 'vae'\n",
    "RUN_ID = '0002'\n",
    "DATA_NAME = 'digits'\n",
    "RUN_FOLDER = 'run/{}/'.format(SECTION)\n",
    "RUN_FOLDER += '_'.join([RUN_ID, DATA_NAME])\n",
    "\n",
    "if not os.path.exists(RUN_FOLDER):\n",
    "    os.mkdir(RUN_FOLDER)\n",
    "    os.mkdir(os.path.join(RUN_FOLDER, 'viz'))\n",
    "    os.mkdir(os.path.join(RUN_FOLDER, 'images'))\n",
    "    os.mkdir(os.path.join(RUN_FOLDER, 'weights'))\n",
    "\n",
    "mode =  'build' #'load' #"
   ]
  },
  {
   "cell_type": "markdown",
   "metadata": {},
   "source": [
    "## data"
   ]
  },
  {
   "cell_type": "code",
   "execution_count": 3,
   "metadata": {},
   "outputs": [
    {
     "name": "stdout",
     "output_type": "stream",
     "text": [
      "Downloading data from https://storage.googleapis.com/tensorflow/tf-keras-datasets/mnist.npz\n",
      "11493376/11490434 [==============================] - 12s 1us/step\n"
     ]
    }
   ],
   "source": [
    "(x_train, y_train), (x_test, y_test) = load_mnist()"
   ]
  },
  {
   "cell_type": "markdown",
   "metadata": {},
   "source": [
    "## architecture"
   ]
  },
  {
   "cell_type": "code",
   "execution_count": 4,
   "metadata": {},
   "outputs": [],
   "source": [
    "vae = VariationalAutoencoder(\n",
    "    input_dim = (28,28,1)\n",
    "    , encoder_conv_filters = [32,64,64, 64]\n",
    "    , encoder_conv_kernel_size = [3,3,3,3]\n",
    "    , encoder_conv_strides = [1,2,2,1]\n",
    "    , decoder_conv_t_filters = [64,64,32,1]\n",
    "    , decoder_conv_t_kernel_size = [3,3,3,3]\n",
    "    , decoder_conv_t_strides = [1,2,2,1]\n",
    "    , z_dim = 2\n",
    ")\n",
    "\n",
    "if mode == 'build':\n",
    "    vae.save(RUN_FOLDER)\n",
    "else:\n",
    "    vae.load_weights(os.path.join(RUN_FOLDER, 'weights/weights.h5'))"
   ]
  },
  {
   "cell_type": "code",
   "execution_count": 5,
   "metadata": {},
   "outputs": [
    {
     "name": "stdout",
     "output_type": "stream",
     "text": [
      "Model: \"model_1\"\n",
      "__________________________________________________________________________________________________\n",
      "Layer (type)                    Output Shape         Param #     Connected to                     \n",
      "==================================================================================================\n",
      "encoder_input (InputLayer)      [(None, 28, 28, 1)]  0                                            \n",
      "__________________________________________________________________________________________________\n",
      "encoder_conv_0 (Conv2D)         (None, 28, 28, 32)   320         encoder_input[0][0]              \n",
      "__________________________________________________________________________________________________\n",
      "leaky_re_lu (LeakyReLU)         (None, 28, 28, 32)   0           encoder_conv_0[0][0]             \n",
      "__________________________________________________________________________________________________\n",
      "encoder_conv_1 (Conv2D)         (None, 14, 14, 64)   18496       leaky_re_lu[0][0]                \n",
      "__________________________________________________________________________________________________\n",
      "leaky_re_lu_1 (LeakyReLU)       (None, 14, 14, 64)   0           encoder_conv_1[0][0]             \n",
      "__________________________________________________________________________________________________\n",
      "encoder_conv_2 (Conv2D)         (None, 7, 7, 64)     36928       leaky_re_lu_1[0][0]              \n",
      "__________________________________________________________________________________________________\n",
      "leaky_re_lu_2 (LeakyReLU)       (None, 7, 7, 64)     0           encoder_conv_2[0][0]             \n",
      "__________________________________________________________________________________________________\n",
      "encoder_conv_3 (Conv2D)         (None, 7, 7, 64)     36928       leaky_re_lu_2[0][0]              \n",
      "__________________________________________________________________________________________________\n",
      "leaky_re_lu_3 (LeakyReLU)       (None, 7, 7, 64)     0           encoder_conv_3[0][0]             \n",
      "__________________________________________________________________________________________________\n",
      "flatten (Flatten)               (None, 3136)         0           leaky_re_lu_3[0][0]              \n",
      "__________________________________________________________________________________________________\n",
      "mu (Dense)                      (None, 2)            6274        flatten[0][0]                    \n",
      "__________________________________________________________________________________________________\n",
      "log_var (Dense)                 (None, 2)            6274        flatten[0][0]                    \n",
      "__________________________________________________________________________________________________\n",
      "encoder_output (Lambda)         (None, 2)            0           mu[0][0]                         \n",
      "                                                                 log_var[0][0]                    \n",
      "==================================================================================================\n",
      "Total params: 105,220\n",
      "Trainable params: 105,220\n",
      "Non-trainable params: 0\n",
      "__________________________________________________________________________________________________\n"
     ]
    }
   ],
   "source": [
    "vae.encoder.summary()"
   ]
  },
  {
   "cell_type": "code",
   "execution_count": 6,
   "metadata": {},
   "outputs": [
    {
     "name": "stdout",
     "output_type": "stream",
     "text": [
      "Model: \"model_2\"\n",
      "_________________________________________________________________\n",
      "Layer (type)                 Output Shape              Param #   \n",
      "=================================================================\n",
      "decoder_input (InputLayer)   [(None, 2)]               0         \n",
      "_________________________________________________________________\n",
      "dense (Dense)                (None, 3136)              9408      \n",
      "_________________________________________________________________\n",
      "reshape (Reshape)            (None, 7, 7, 64)          0         \n",
      "_________________________________________________________________\n",
      "decoder_conv_t_0 (Conv2DTran (None, 7, 7, 64)          36928     \n",
      "_________________________________________________________________\n",
      "leaky_re_lu_4 (LeakyReLU)    (None, 7, 7, 64)          0         \n",
      "_________________________________________________________________\n",
      "decoder_conv_t_1 (Conv2DTran (None, 14, 14, 64)        36928     \n",
      "_________________________________________________________________\n",
      "leaky_re_lu_5 (LeakyReLU)    (None, 14, 14, 64)        0         \n",
      "_________________________________________________________________\n",
      "decoder_conv_t_2 (Conv2DTran (None, 28, 28, 32)        18464     \n",
      "_________________________________________________________________\n",
      "leaky_re_lu_6 (LeakyReLU)    (None, 28, 28, 32)        0         \n",
      "_________________________________________________________________\n",
      "decoder_conv_t_3 (Conv2DTran (None, 28, 28, 1)         289       \n",
      "_________________________________________________________________\n",
      "activation (Activation)      (None, 28, 28, 1)         0         \n",
      "=================================================================\n",
      "Total params: 102,017\n",
      "Trainable params: 102,017\n",
      "Non-trainable params: 0\n",
      "_________________________________________________________________\n"
     ]
    }
   ],
   "source": [
    "vae.decoder.summary()"
   ]
  },
  {
   "cell_type": "markdown",
   "metadata": {},
   "source": [
    "## training"
   ]
  },
  {
   "cell_type": "code",
   "execution_count": 7,
   "metadata": {},
   "outputs": [],
   "source": [
    "LEARNING_RATE = 0.0005\n",
    "R_LOSS_FACTOR = 1000"
   ]
  },
  {
   "cell_type": "code",
   "execution_count": 8,
   "metadata": {},
   "outputs": [],
   "source": [
    "vae.compile(LEARNING_RATE, R_LOSS_FACTOR)"
   ]
  },
  {
   "cell_type": "code",
   "execution_count": 9,
   "metadata": {},
   "outputs": [],
   "source": [
    "BATCH_SIZE = 32\n",
    "EPOCHS = 200\n",
    "PRINT_EVERY_N_BATCHES = 100\n",
    "INITIAL_EPOCH = 0"
   ]
  },
  {
   "cell_type": "code",
   "execution_count": null,
   "metadata": {},
   "outputs": [
    {
     "name": "stdout",
     "output_type": "stream",
     "text": [
      "Train on 60000 samples\n",
      "Epoch 1/200\n",
      "   32/60000 [..............................] - ETA: 1:46:23 - loss: 231.7183 - vae_r_loss: 231.7178 - vae_kl_loss: 4.6890e-04WARNING:tensorflow:Method (on_train_batch_end) is slow compared to the batch update (0.225436). Check your callbacks.\n",
      "59968/60000 [============================>.] - ETA: 0s - loss: 58.3881 - vae_r_loss: 55.1593 - vae_kl_loss: 3.2287\n",
      "Epoch 00001: saving model to run/vae/0002_digits/weights/weights-001-58.38.h5\n",
      "\n",
      "Epoch 00001: saving model to run/vae/0002_digits/weights/weights.h5\n",
      "60000/60000 [==============================] - 112s 2ms/sample - loss: 58.3826 - vae_r_loss: 55.1535 - vae_kl_loss: 3.2290\n",
      "Epoch 2/200\n",
      "59968/60000 [============================>.] - ETA: 0s - loss: 51.6212 - vae_r_loss: 47.6771 - vae_kl_loss: 3.9441\n",
      "Epoch 00002: saving model to run/vae/0002_digits/weights/weights-002-51.62.h5\n",
      "\n",
      "Epoch 00002: saving model to run/vae/0002_digits/weights/weights.h5\n",
      "60000/60000 [==============================] - 109s 2ms/sample - loss: 51.6182 - vae_r_loss: 47.6741 - vae_kl_loss: 3.9441\n",
      "Epoch 3/200\n",
      "59968/60000 [============================>.] - ETA: 0s - loss: 50.0823 - vae_r_loss: 45.8389 - vae_kl_loss: 4.2435\n",
      "Epoch 00003: saving model to run/vae/0002_digits/weights/weights-003-50.09.h5\n",
      "\n",
      "Epoch 00003: saving model to run/vae/0002_digits/weights/weights.h5\n",
      "60000/60000 [==============================] - 109s 2ms/sample - loss: 50.0857 - vae_r_loss: 45.8421 - vae_kl_loss: 4.2436\n",
      "Epoch 4/200\n",
      "59968/60000 [============================>.] - ETA: 0s - loss: 49.1659 - vae_r_loss: 44.7398 - vae_kl_loss: 4.4260\n",
      "Epoch 00004: saving model to run/vae/0002_digits/weights/weights-004-49.17.h5\n",
      "\n",
      "Epoch 00004: saving model to run/vae/0002_digits/weights/weights.h5\n",
      "60000/60000 [==============================] - 114s 2ms/sample - loss: 49.1684 - vae_r_loss: 44.7423 - vae_kl_loss: 4.4261\n",
      "Epoch 5/200\n",
      "59968/60000 [============================>.] - ETA: 0s - loss: 48.5699 - vae_r_loss: 44.0147 - vae_kl_loss: 4.5552\n",
      "Epoch 00005: saving model to run/vae/0002_digits/weights/weights-005-48.57.h5\n",
      "\n",
      "Epoch 00005: saving model to run/vae/0002_digits/weights/weights.h5\n",
      "60000/60000 [==============================] - 118s 2ms/sample - loss: 48.5704 - vae_r_loss: 44.0153 - vae_kl_loss: 4.5551\n",
      "Epoch 6/200\n",
      "59968/60000 [============================>.] - ETA: 0s - loss: 48.0902 - vae_r_loss: 43.4450 - vae_kl_loss: 4.6452\n",
      "Epoch 00006: saving model to run/vae/0002_digits/weights/weights-006-48.09.h5\n",
      "\n",
      "Epoch 00006: saving model to run/vae/0002_digits/weights/weights.h5\n",
      "60000/60000 [==============================] - 120s 2ms/sample - loss: 48.0895 - vae_r_loss: 43.4444 - vae_kl_loss: 4.6452\n",
      "Epoch 7/200\n",
      "59968/60000 [============================>.] - ETA: 0s - loss: 47.7231 - vae_r_loss: 43.0116 - vae_kl_loss: 4.7115\n",
      "Epoch 00007: saving model to run/vae/0002_digits/weights/weights-007-47.72.h5\n",
      "\n",
      "Epoch 00007: saving model to run/vae/0002_digits/weights/weights.h5\n",
      "60000/60000 [==============================] - 122s 2ms/sample - loss: 47.7230 - vae_r_loss: 43.0116 - vae_kl_loss: 4.7114\n",
      "Epoch 8/200\n",
      "59968/60000 [============================>.] - ETA: 0s - loss: 47.4386 - vae_r_loss: 42.6590 - vae_kl_loss: 4.7796\n",
      "Epoch 00008: saving model to run/vae/0002_digits/weights/weights-008-47.44.h5\n",
      "\n",
      "Epoch 00008: saving model to run/vae/0002_digits/weights/weights.h5\n",
      "60000/60000 [==============================] - 120s 2ms/sample - loss: 47.4371 - vae_r_loss: 42.6574 - vae_kl_loss: 4.7797\n",
      "Epoch 9/200\n",
      "59968/60000 [============================>.] - ETA: 0s - loss: 47.2004 - vae_r_loss: 42.3911 - vae_kl_loss: 4.8093\n",
      "Epoch 00009: saving model to run/vae/0002_digits/weights/weights-009-47.20.h5\n",
      "\n",
      "Epoch 00009: saving model to run/vae/0002_digits/weights/weights.h5\n",
      "60000/60000 [==============================] - 121s 2ms/sample - loss: 47.2034 - vae_r_loss: 42.3941 - vae_kl_loss: 4.8093\n",
      "Epoch 10/200\n",
      "59968/60000 [============================>.] - ETA: 0s - loss: 46.9456 - vae_r_loss: 42.0894 - vae_kl_loss: 4.8562\n",
      "Epoch 00010: saving model to run/vae/0002_digits/weights/weights-010-46.95.h5\n",
      "\n",
      "Epoch 00010: saving model to run/vae/0002_digits/weights/weights.h5\n",
      "60000/60000 [==============================] - 122s 2ms/sample - loss: 46.9467 - vae_r_loss: 42.0904 - vae_kl_loss: 4.8563\n",
      "Epoch 11/200\n",
      "59968/60000 [============================>.] - ETA: 0s - loss: 46.8023 - vae_r_loss: 41.9188 - vae_kl_loss: 4.8835\n",
      "Epoch 00011: saving model to run/vae/0002_digits/weights/weights-011-46.80.h5\n",
      "\n",
      "Epoch 00011: saving model to run/vae/0002_digits/weights/weights.h5\n",
      "60000/60000 [==============================] - 127s 2ms/sample - loss: 46.8018 - vae_r_loss: 41.9184 - vae_kl_loss: 4.8834\n",
      "Epoch 12/200\n",
      "59968/60000 [============================>.] - ETA: 0s - loss: 46.6021 - vae_r_loss: 41.6752 - vae_kl_loss: 4.9268\n",
      "Epoch 00012: saving model to run/vae/0002_digits/weights/weights-012-46.60.h5\n",
      "\n",
      "Epoch 00012: saving model to run/vae/0002_digits/weights/weights.h5\n",
      "60000/60000 [==============================] - 126s 2ms/sample - loss: 46.6050 - vae_r_loss: 41.6781 - vae_kl_loss: 4.9268\n",
      "Epoch 13/200\n",
      "59968/60000 [============================>.] - ETA: 0s - loss: 46.4656 - vae_r_loss: 41.5249 - vae_kl_loss: 4.9407\n",
      "Epoch 00013: saving model to run/vae/0002_digits/weights/weights-013-46.47.h5\n",
      "\n",
      "Epoch 00013: saving model to run/vae/0002_digits/weights/weights.h5\n",
      "60000/60000 [==============================] - 130s 2ms/sample - loss: 46.4651 - vae_r_loss: 41.5245 - vae_kl_loss: 4.9407\n",
      "Epoch 14/200\n",
      "59968/60000 [============================>.] - ETA: 0s - loss: 46.3129 - vae_r_loss: 41.3379 - vae_kl_loss: 4.9750\n",
      "Epoch 00014: saving model to run/vae/0002_digits/weights/weights-014-46.31.h5\n",
      "\n",
      "Epoch 00014: saving model to run/vae/0002_digits/weights/weights.h5\n",
      "60000/60000 [==============================] - 130s 2ms/sample - loss: 46.3129 - vae_r_loss: 41.3378 - vae_kl_loss: 4.9751\n",
      "Epoch 15/200\n",
      "59968/60000 [============================>.] - ETA: 0s - loss: 46.2210 - vae_r_loss: 41.2242 - vae_kl_loss: 4.9968\n",
      "Epoch 00015: saving model to run/vae/0002_digits/weights/weights-015-46.22.h5\n",
      "\n",
      "Epoch 00015: saving model to run/vae/0002_digits/weights/weights.h5\n",
      "60000/60000 [==============================] - 128s 2ms/sample - loss: 46.2217 - vae_r_loss: 41.2251 - vae_kl_loss: 4.9965\n",
      "Epoch 16/200\n",
      "59968/60000 [============================>.] - ETA: 0s - loss: 46.1034 - vae_r_loss: 41.0806 - vae_kl_loss: 5.0227\n",
      "Epoch 00016: saving model to run/vae/0002_digits/weights/weights-016-46.10.h5\n",
      "\n",
      "Epoch 00016: saving model to run/vae/0002_digits/weights/weights.h5\n",
      "60000/60000 [==============================] - 124s 2ms/sample - loss: 46.1018 - vae_r_loss: 41.0791 - vae_kl_loss: 5.0227\n",
      "Epoch 17/200\n",
      "59968/60000 [============================>.] - ETA: 0s - loss: 45.9840 - vae_r_loss: 40.9372 - vae_kl_loss: 5.0468\n",
      "Epoch 00017: saving model to run/vae/0002_digits/weights/weights-017-45.98.h5\n",
      "\n",
      "Epoch 00017: saving model to run/vae/0002_digits/weights/weights.h5\n",
      "60000/60000 [==============================] - 123s 2ms/sample - loss: 45.9811 - vae_r_loss: 40.9342 - vae_kl_loss: 5.0469\n",
      "Epoch 18/200\n",
      "59968/60000 [============================>.] - ETA: 0s - loss: 45.8682 - vae_r_loss: 40.8040 - vae_kl_loss: 5.0642\n",
      "Epoch 00018: saving model to run/vae/0002_digits/weights/weights-018-45.87.h5\n",
      "\n",
      "Epoch 00018: saving model to run/vae/0002_digits/weights/weights.h5\n",
      "60000/60000 [==============================] - 124s 2ms/sample - loss: 45.8693 - vae_r_loss: 40.8052 - vae_kl_loss: 5.0641\n",
      "Epoch 19/200\n",
      "19296/60000 [========>.....................] - ETA: 1:24 - loss: 45.9729 - vae_r_loss: 40.8846 - vae_kl_loss: 5.0882"
     ]
    }
   ],
   "source": [
    "vae.train(     \n",
    "    x_train\n",
    "    , batch_size = BATCH_SIZE\n",
    "    , epochs = EPOCHS\n",
    "    , run_folder = RUN_FOLDER\n",
    "    , print_every_n_batches = PRINT_EVERY_N_BATCHES\n",
    "    , initial_epoch = INITIAL_EPOCH\n",
    ")"
   ]
  },
  {
   "cell_type": "code",
   "execution_count": null,
   "metadata": {},
   "outputs": [],
   "source": []
  }
 ],
 "metadata": {
  "kernelspec": {
   "display_name": "Python 3.7 (generative2)",
   "language": "python",
   "name": "generative2"
  },
  "language_info": {
   "codemirror_mode": {
    "name": "ipython",
    "version": 3
   },
   "file_extension": ".py",
   "mimetype": "text/x-python",
   "name": "python",
   "nbconvert_exporter": "python",
   "pygments_lexer": "ipython3",
   "version": "3.7.7"
  }
 },
 "nbformat": 4,
 "nbformat_minor": 2
}
>>>>>>> b89465d23ece0de3faf5eb35552641370a51ac23
